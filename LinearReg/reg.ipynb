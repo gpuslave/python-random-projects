{
 "cells": [
  {
   "cell_type": "code",
   "execution_count": 19,
   "metadata": {},
   "outputs": [],
   "source": [
    "import pandas as pd\n",
    "import numpy as np\n",
    "from pathlib import Path\n",
    "from sklearn.linear_model import LinearRegression\n",
    "from sklearn.ensemble import GradientBoostingRegressor\n",
    "from sklearn.metrics import r2_score\n",
    "from sklearn.model_selection import train_test_split\n",
    "from sklearn.preprocessing import OrdinalEncoder, LabelEncoder,OneHotEncoder"
   ]
  },
  {
   "cell_type": "code",
   "execution_count": null,
   "metadata": {},
   "outputs": [],
   "source": [
    "df = pd.read_csv(\"../datasets/cars.csv\")\n",
    "df.head()"
   ]
  },
  {
   "cell_type": "code",
   "execution_count": null,
   "metadata": {},
   "outputs": [],
   "source": [
    "print(df.columns)"
   ]
  },
  {
   "cell_type": "code",
   "execution_count": null,
   "metadata": {},
   "outputs": [],
   "source": [
    "df[\"this_year\"] = 2024\n",
    "df[\"age\"] = df[\"this_year\"] - df[\"year\"]\n",
    "df.drop([\"year\", \"this_year\", \"name\"], axis=1, inplace=True)\n",
    "df.head()"
   ]
  },
  {
   "cell_type": "code",
   "execution_count": null,
   "metadata": {},
   "outputs": [],
   "source": [
    "label_encoder = LabelEncoder()\n",
    "\n",
    "df['fuel_type_encoded'] = label_encoder.fit_transform(df['fuel'])\n",
    "df['seller_type_encoded'] = label_encoder.fit_transform(df['seller_type'])\n",
    "df['transmission_encoded'] = label_encoder.fit_transform(df['transmission'])\n",
    "df['owner_encoded'] = label_encoder.fit_transform(df['owner'])\n",
    "df= df.drop('fuel', axis=1)\n",
    "df= df.drop('seller_type', axis=1)\n",
    "df= df.drop('transmission', axis=1)\n",
    "df= df.drop('owner', axis=1)\n",
    "\n",
    "df.head()"
   ]
  },
  {
   "cell_type": "code",
   "execution_count": null,
   "metadata": {},
   "outputs": [],
   "source": [
    "X = df.drop(\"selling_price\", axis=1)\n",
    "y = df[\"selling_price\"]\n",
    "X.head()"
   ]
  },
  {
   "cell_type": "code",
   "execution_count": null,
   "metadata": {},
   "outputs": [],
   "source": [
    "y.head()"
   ]
  },
  {
   "cell_type": "code",
   "execution_count": null,
   "metadata": {},
   "outputs": [],
   "source": [
    "X_train, X_test, y_train, y_test = train_test_split(\n",
    "    X,\n",
    "    y,\n",
    "    test_size=0.1,\n",
    "    random_state=42,\n",
    ")\n",
    "\n",
    "reg = LinearRegression().fit(X_train, y_train)\n",
    "print(r2_score(y_test, reg.predict(X_test)))\n",
    "test_df = pd.DataFrame()\n",
    "test_df[\"actual\"] = y_test\n",
    "test_df[\"pred\"] = reg.predict(X_test)\n",
    "test_df.head()"
   ]
  }
 ],
 "metadata": {
  "kernelspec": {
   "display_name": ".venv",
   "language": "python",
   "name": "python3"
  },
  "language_info": {
   "codemirror_mode": {
    "name": "ipython",
    "version": 3
   },
   "file_extension": ".py",
   "mimetype": "text/x-python",
   "name": "python",
   "nbconvert_exporter": "python",
   "pygments_lexer": "ipython3",
   "version": "3.11.5"
  }
 },
 "nbformat": 4,
 "nbformat_minor": 2
}
